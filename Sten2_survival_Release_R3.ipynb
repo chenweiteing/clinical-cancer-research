{
  "cells": [
    {
      "cell_type": "code",
      "execution_count": null,
      "metadata": {
        "colab": {
          "base_uri": "https://localhost:8080/"
        },
        "id": "2J-6Y-RWOQJK",
        "outputId": "ab9d2824-2404-46cf-b793-c40a91aeb9a5"
      },
      "outputs": [
        {
          "output_type": "stream",
          "name": "stdout",
          "text": [
            "Looking in indexes: https://pypi.org/simple, https://us-python.pkg.dev/colab-wheels/public/simple/\n",
            "Requirement already satisfied: scikit-survival in /usr/local/lib/python3.7/dist-packages (0.17.2)\n",
            "Requirement already satisfied: scikit-learn<1.1,>=1.0.0 in /usr/local/lib/python3.7/dist-packages (from scikit-survival) (1.0.2)\n",
            "Requirement already satisfied: joblib in /usr/local/lib/python3.7/dist-packages (from scikit-survival) (1.1.0)\n",
            "Requirement already satisfied: pandas>=0.25 in /usr/local/lib/python3.7/dist-packages (from scikit-survival) (1.3.5)\n",
            "Requirement already satisfied: scipy!=1.3.0,>=1.0 in /usr/local/lib/python3.7/dist-packages (from scikit-survival) (1.4.1)\n",
            "Requirement already satisfied: osqp!=0.6.0,!=0.6.1 in /usr/local/lib/python3.7/dist-packages (from scikit-survival) (0.6.2.post0)\n",
            "Requirement already satisfied: numpy in /usr/local/lib/python3.7/dist-packages (from scikit-survival) (1.21.6)\n",
            "Requirement already satisfied: ecos in /usr/local/lib/python3.7/dist-packages (from scikit-survival) (2.0.10)\n",
            "Requirement already satisfied: numexpr in /usr/local/lib/python3.7/dist-packages (from scikit-survival) (2.8.1)\n",
            "Requirement already satisfied: qdldl in /usr/local/lib/python3.7/dist-packages (from osqp!=0.6.0,!=0.6.1->scikit-survival) (0.1.5.post2)\n",
            "Requirement already satisfied: python-dateutil>=2.7.3 in /usr/local/lib/python3.7/dist-packages (from pandas>=0.25->scikit-survival) (2.8.2)\n",
            "Requirement already satisfied: pytz>=2017.3 in /usr/local/lib/python3.7/dist-packages (from pandas>=0.25->scikit-survival) (2022.1)\n",
            "Requirement already satisfied: six>=1.5 in /usr/local/lib/python3.7/dist-packages (from python-dateutil>=2.7.3->pandas>=0.25->scikit-survival) (1.15.0)\n",
            "Requirement already satisfied: threadpoolctl>=2.0.0 in /usr/local/lib/python3.7/dist-packages (from scikit-learn<1.1,>=1.0.0->scikit-survival) (3.1.0)\n",
            "Requirement already satisfied: packaging in /usr/local/lib/python3.7/dist-packages (from numexpr->scikit-survival) (21.3)\n",
            "Requirement already satisfied: pyparsing!=3.0.5,>=2.0.2 in /usr/local/lib/python3.7/dist-packages (from packaging->numexpr->scikit-survival) (3.0.9)\n",
            "survival (months)    1.000000\n",
            "Sex                  0.030500\n",
            "Primary_Location     0.008689\n",
            "Age                 -0.126824\n",
            "T                   -0.087261\n",
            "N                    0.084084\n",
            "M                   -0.382199\n",
            "Smoke Status         0.008032\n",
            "Smoke Amount        -0.155450\n",
            "Treat1               0.087937\n",
            "Treat2               0.192652\n",
            "Treat3               0.211651\n",
            "Belnut chewing       0.181200\n",
            "Alcohol status       0.038344\n",
            "Bone Transfer        0.044183\n",
            "Brain Transfer       0.030812\n",
            "Liver Transfer      -0.002520\n",
            "Lung Transfer        0.002431\n",
            "EGFR1                0.287458\n",
            "EGFR                -0.261209\n",
            "CEA                  0.056619\n",
            "ALK                 -0.086164\n",
            "pD-L1                0.225221\n",
            "Radio Theorapy       0.119868\n",
            "Hight               -0.000986\n",
            "Weight               0.092301\n",
            "Stage                0.043035\n",
            "Name: survival (months), dtype: float64\n",
            "                   survival (months)\n",
            "survival (months)           1.000000\n",
            "Sex                         0.030500\n",
            "Primary_Location            0.008689\n",
            "Age                        -0.126824\n",
            "T                          -0.087261\n",
            "N                           0.084084\n",
            "M                          -0.382199\n",
            "Smoke Status                0.008032\n",
            "Smoke Amount               -0.155450\n",
            "Treat1                      0.087937\n",
            "Treat2                      0.192652\n",
            "Treat3                      0.211651\n",
            "Belnut chewing              0.181200\n",
            "Alcohol status              0.038344\n",
            "Bone Transfer               0.044183\n",
            "Brain Transfer              0.030812\n",
            "Liver Transfer             -0.002520\n",
            "Lung Transfer               0.002431\n",
            "EGFR1                       0.287458\n",
            "EGFR                       -0.261209\n",
            "CEA                         0.056619\n",
            "ALK                        -0.086164\n",
            "pD-L1                       0.225221\n",
            "Radio Theorapy              0.119868\n",
            "Hight                      -0.000986\n",
            "Weight                      0.092301\n",
            "Stage                       0.043035\n",
            "\n",
            "\n",
            "Variable Predictive Power (0.5 means no predictive power):\n",
            "EGFR1               0.623463\n",
            "EGFR                0.607314\n",
            "Treat2              0.588731\n",
            "Age                 0.580094\n",
            "Treat1              0.572564\n",
            "Treat3              0.569980\n",
            "Smoke Amount        0.563976\n",
            "pD-L1               0.557447\n",
            "M                   0.547973\n",
            "ALK                 0.547943\n",
            "CEA                 0.542353\n",
            "Belnut chewing      0.537530\n",
            "Weight              0.533374\n",
            "Radio Theorapy      0.532128\n",
            "N                   0.532063\n",
            "T                   0.528260\n",
            "Brain Transfer      0.526151\n",
            "Bone Transfer       0.524284\n",
            "Stage               0.522355\n",
            "Sex                 0.520718\n",
            "Hight               0.514956\n",
            "Liver Transfer      0.510225\n",
            "Smoke Status        0.507166\n",
            "Primary_Location    0.505916\n",
            "Lung Transfer       0.490001\n",
            "Alcohol status      0.486037\n",
            "dtype: float64\n",
            "----------------------\n",
            "\n",
            "Loop =  0\n",
            "----------------------\n",
            "\n",
            "Loop =  1\n",
            "----------------------\n",
            "\n",
            "Loop =  2\n",
            "----------------------\n",
            "\n",
            "Loop =  3\n",
            "----------------------\n",
            "\n",
            "Loop =  4\n",
            "----------------------\n",
            "\n",
            "Loop =  5\n",
            "----------------------\n",
            "\n",
            "Loop =  6\n",
            "----------------------\n",
            "\n",
            "Loop =  7\n",
            "----------------------\n",
            "\n",
            "Loop =  8\n",
            "----------------------\n",
            "\n",
            "Loop =  9\n",
            "----------------------\n",
            "\n",
            "Baseline avg score = 0.6086696146293862 std =  0.013289373308363158\n",
            "Cox avg score = 0.6929845702894288 std =  0.02373554390576273\n",
            "SVM avg score = 0.7026361973606667 std =  0.021800522108796294\n",
            "Random survival forest avg score = 0.6952194989044173 std =  0.022227182864499668\n",
            "GB tree avg score = 0.6920066445230327 std =  0.019336928582126114\n"
          ]
        }
      ],
      "source": [
        "# Do one-hot encoding for all features\n",
        "# 02/17/2022\n",
        "# Use ctrl + / to comment or uncomment multiple lines ... Good\n",
        "# 03/21/2022\n",
        "# Change to survival analysis\n",
        "# 03/24/2022\n",
        "# Combined data files. Not possible to use new file for testing\n",
        "#   becasue the life expectancy of new file is much longer\n",
        "# 03/25/2022\n",
        "# Refactor codes for better readability\n",
        "# Add a piece of code for calculating predictive power\n",
        "!pip install scikit-survival\n",
        "import pandas as pd\n",
        "import numpy as np\n",
        "\n",
        "from sklearn import datasets, ensemble\n",
        "from sklearn.model_selection import train_test_split\n",
        "from sklearn.svm import SVR\n",
        "from sklearn.ensemble import RandomForestRegressor\n",
        "from sklearn.svm import SVC\n",
        "from sklearn.ensemble import RandomForestClassifier\n",
        "from sklearn.model_selection import cross_val_score\n",
        "from sklearn.linear_model import LogisticRegression\n",
        "from sklearn.preprocessing import OrdinalEncoder\n",
        "from sksurv.linear_model import CoxPHSurvivalAnalysis\n",
        "\n",
        "\n",
        "ITERATION = 10 # <----- can change to 100\n",
        "# here is to convert categorical data to numerical values by using dictionary\n",
        "#Format label: value\n",
        "#Can change values to reflext the importance of each attribute\n",
        "\n",
        "def conv_T(ix):\n",
        "    T_types = {'0': 0, '1': 1, '1a': 1.25, '1b': 1.5, '1c': 1.75, '2': 2, '2a': 2.3, '2b':2.7, '3':3, '4':4, '4b': 4.5}\n",
        "    return T_types.get(df.loc[ix,'T'], -1)\n",
        "\n",
        "def conv_N(ix):\n",
        "    N_types = {'0': 0, '1': 1, '2': 2, '2c': 2.7, '3': 3}\n",
        "    return N_types.get(df.loc[ix,'N'], -1)\n",
        "\n",
        "def conv_M(ix):\n",
        "    M_types = {'0':0, '1': 1, '1a': 1.3, '1b': 1.5, '1c': 1.8}\n",
        "    return M_types.get(df.loc[ix,'M'], -1)\n",
        "\n",
        "def conv_SS(ix):\n",
        "    SS_types = {'never': 1, 'exsmoker':3,'former smoker' :3,'former' :3, 'current smoker': 4, 'current': 4 }\n",
        "    return SS_types.get(df.loc[ix,'Smoking status'], 0)\n",
        "\n",
        "def conv_SA(val):\n",
        "    if val == '0':\n",
        "        return (0)\n",
        "    else:\n",
        "        return (1)\n",
        "\n",
        "def conv_BC(ix):\n",
        "    BC_types = {'never': 0, 'current': 2, 'quit':1}\n",
        "    return BC_types.get(df.loc[ix,'Belnut chewing'],-1)\n",
        "\n",
        "def conv_A(ix):\n",
        "    ALC_types = {'never': 0, 'quit':2, 'social drinking':3, 'habitual drinking':3, 'current':3}\n",
        "    return ALC_types.get(df.loc[ix,'Alcohol'],-1)\n",
        "\n",
        "def conv_YN(val):\n",
        "    if val == 'Y' or val == 'y':\n",
        "        return (1)\n",
        "    else:\n",
        "        return (0)\n",
        "def conv_dc(val):\n",
        "        return (val == 'd')\n",
        "\n",
        "def conv_CEA(val):\n",
        "    if val < 3:\n",
        "        return (-1)\n",
        "    elif val < 5:\n",
        "        return (0)\n",
        "    elif val < 20:\n",
        "        return (1)\n",
        "    else:\n",
        "        return (2)\n",
        "\n",
        "def conv_ALK(ix):\n",
        "    ALK_types = {'N':0,'positive':2}\n",
        "    return ALK_types.get(df.loc[ix,'ALK'],1)\n",
        "\n",
        "def conv_pD(ix):\n",
        "    pD_types = {'<1%':1,'1% ~50%':2,'>1%':2, '>50%':3}\n",
        "    return pD_types.get(df.loc[ix,'pD-L1'],-1)\n",
        "\n",
        "def conv_HT(val):\n",
        "    if val == 'x':\n",
        "        val = 160  # filled with mean value\n",
        "    else:\n",
        "        val = (int)(val)\n",
        "    if val < 150:\n",
        "        return(0)\n",
        "    elif val < 160:\n",
        "        return (1)\n",
        "    elif val < 170:\n",
        "        return (2)\n",
        "    else:\n",
        "        return (3)\n",
        "\n",
        "def conv_WT(val):\n",
        "    if val == 'x':\n",
        "        val = 59  # filled with mean value\n",
        "    else:\n",
        "        val = (int)(val)\n",
        "    if val < 50:\n",
        "        return(0)\n",
        "    elif val < 65:\n",
        "        return (1)\n",
        "    elif val < 80:\n",
        "        return (2)\n",
        "    else:\n",
        "        return (3)\n",
        "\n",
        "def conv_Y(val):\n",
        "     if float(val) < 12:\n",
        "         return (1)\n",
        "     else:\n",
        "         return(2)\n",
        "\n",
        "def conv_age(val):\n",
        "    if  val == -1:\n",
        "        return (2) #impuation\n",
        "    elif val < 60:\n",
        "        return (1)\n",
        "    elif val < 70:\n",
        "        return(2)\n",
        "    elif val < 80:\n",
        "        return(3)\n",
        "    else:\n",
        "        return(4)\n",
        "\n",
        "#def conv_Treat(val):\n",
        "#    SS_types = {'0':'Treat_NO', 'I' :'Treat_1', 'T': 'Treat_1', 'A':'Treat_2','O':'Treat_3', 'N':'Treat_chemo_O', \\\n",
        "#                'U':'Treat_chemo_O','P':'Treat_chemo_IV', 'G':'Treat_chemo_IV' , 'x': 'Treat_chemo_IV', 'V': 'Treat_chemo_IV', \\\n",
        "#               'B':'Treat_IV'  }\n",
        "#    return SS_types.get(val,'Treat_NO')\n",
        "\n",
        "def conv_Treat(val):\n",
        "    SS_types = {'0':0, 'I' :1, 'T': 1, 'A':2,'O':3, 'N':4, \\\n",
        "                'U':4,'P':5, 'G':5 , 'x': 5, 'V': 6, \\\n",
        "               'B':7, 'Alectinib':7,'altizolizumab':8  }\n",
        "    return SS_types.get(val,0)\n",
        "\n",
        "\n",
        "def conv_EG1(ix):\n",
        "    EG1_types = {'wild':0,'mutation':2}\n",
        "    return EG1_types.get(df.loc[ix,'EGFR1'],-1)\n",
        "\n",
        "def conv_EG(ix):\n",
        "    EG_types = {'-1':0,'Exon 19 del':2, 'L858R':2, 'Exon 19 del,T790M':2,'L858R,T790M':2 }\n",
        "    return EG_types.get(df.loc[ix,'EGFR'],3)\n",
        "\n",
        "def comp_ST(new_df,ix):\n",
        "    if new_df.loc[ix,'M'] == 1:\n",
        "        return(4)\n",
        "    elif new_df.loc[ix,'N'] >= 2:\n",
        "        return(3)\n",
        "    elif new_df.loc[ix,'T'] <= 2 and new_df.loc[ix,'N'] == 0:\n",
        "        return(1)\n",
        "    else:\n",
        "        return(2)\n",
        "\n",
        "def convert_freq(tmp): # Frequency of one-hot encoding ...\n",
        "    leng = len(tmp)\n",
        "    ser = tmp.value_counts()\n",
        "    cat = ser.index.values\n",
        "    cat_no = len(cat)\n",
        "    #print(cat_no)\n",
        "    cnt = np.zeros(cat_no)\n",
        "    #print (ser)\n",
        "    for ix in range(cat_no):\n",
        "      cnt[ix] = (ser.iat[ix] / leng) * 3\n",
        "    #print(cnt)\n",
        "    for ix, val in enumerate(tmp):\n",
        "      #print(ix, val, cnt[val == cat])\n",
        "      tmp[ix] = cnt[val == cat]\n",
        "    return tmp\n",
        "\n",
        "def convert_dataframe(df):\n",
        "    out_df = df[df.loc[:,\"Age\"] < 100] # <-------- Can choose patients based on Age less than xxx (years)\n",
        "    df = out_df.fillna(-1) # Handle missing values (filled with -1)\n",
        "    df.reset_index(inplace=True)\n",
        "\n",
        "    #new_df holds all numerical values\n",
        "    new_df = df[['survival (months)','Sex']].copy()\n",
        "\n",
        "    new_df['Primary_Location']=df['primary_location'].astype('category').cat.codes\n",
        "    # Numerical encoding here ...\n",
        "    for ix, val in enumerate(df['Smoking amount']):\n",
        "        # print (ix, val)\n",
        "        new_df.loc[ix,'Age']=conv_age(df.loc[ix,'Age'])\n",
        "        new_df.loc[ix,'T']=conv_T(ix)\n",
        "        new_df.loc[ix,'N']=conv_N(ix)\n",
        "        new_df.loc[ix,'M']=conv_M(ix)\n",
        "        new_df.loc[ix,'Smoke Status'] = conv_SS(ix)\n",
        "        new_df.loc[ix,'Smoke Amount'] = conv_SA(val)\n",
        "        new_df.loc[ix,'Treat1'] = conv_Treat(df.loc[ix,'Treat1'])\n",
        "        new_df.loc[ix,'Treat2'] = conv_Treat(df.loc[ix,'Treat2'])\n",
        "        new_df.loc[ix,'Treat3'] = conv_Treat(df.loc[ix,'Treat3'])\n",
        "        new_df.loc[ix,'Belnut chewing'] = conv_BC(ix)\n",
        "        new_df.loc[ix,'Alcohol status'] = conv_A(ix)\n",
        "        new_df.loc[ix,'Bone Transfer'] = conv_YN(df.loc[ix,'bone'])\n",
        "        new_df.loc[ix,'Brain Transfer'] = conv_YN(df.loc[ix,'brain'])\n",
        "        new_df.loc[ix,'Liver Transfer'] = conv_YN(df.loc[ix,'liver'])\n",
        "        new_df.loc[ix,'Lung Transfer'] = conv_YN(df.loc[ix,'lung'])\n",
        "        new_df.loc[ix,'EGFR1'] = conv_EG1(ix)\n",
        "        new_df.loc[ix,'EGFR'] = conv_EG(ix)\n",
        "        new_df.loc[ix,'CEA'] = conv_CEA(df.loc[ix,'CEA'])\n",
        "        new_df.loc[ix,'ALK'] = conv_ALK(ix)\n",
        "        new_df.loc[ix,'pD-L1'] = conv_pD(ix)\n",
        "        new_df.loc[ix,'Radio Theorapy'] = conv_YN(df.loc[ix,'(Radio/Therapy)'])\n",
        "        new_df.loc[ix,'Hight'] = conv_HT(df.loc[ix,'Height'])\n",
        "        new_df.loc[ix,'Weight'] = conv_WT(df.loc[ix,'Weight'])\n",
        "        new_df.loc[ix,'Stage'] = comp_ST(new_df,ix)\n",
        "        new_df.loc[ix,'status'] = conv_dc(df.loc[ix,'comment'])\n",
        "\n",
        "    #Remove fatures with samll correlation\n",
        "    if 0: #not too much helpful\n",
        "      columns = ['PL','Smoke Status','Hight','EGFR1','Liver Transfer','Lung Transfer']\n",
        "      new_df.drop(columns,axis=1,inplace=True)\n",
        "\n",
        "    if 0:# Do One-hot encoding if 1 (seems better)\n",
        "        new_df = pd.get_dummies(new_df,columns=['Treat1','Treat2','Treat3'])\n",
        "        print(new_df.shape)\n",
        "        # shape of df_X = 575 x 44\n",
        "\n",
        "    # Do alternative encoding via frequency (disabled cause NOT useful)\n",
        "    if 0:\n",
        "        tmp = new_df['Treat1'].astype('int')\n",
        "        convert_freq(tmp)\n",
        "        tmp = new_df['Treat2'].astype('int')\n",
        "        convert_freq(tmp)\n",
        "        tmp = new_df['Treat3'].astype('int')\n",
        "        convert_freq(tmp)\n",
        "\n",
        "    # check correlation coefficients\n",
        "    print(new_df.corr()['survival (months)'][:])\n",
        "    df=pd.DataFrame((new_df.corr()['survival (months)']))\n",
        "    print(df)\n",
        "    return new_df\n",
        "\n",
        "\n",
        "\n",
        "\n",
        "def fit_and_score_features(X, y):\n",
        "    n_features = X.shape[1]\n",
        "    scores = np.empty(n_features)\n",
        "    m = CoxPHSurvivalAnalysis()\n",
        "    for j in range(n_features):\n",
        "        Xj = X[:, j:j+1]\n",
        "        m.fit(Xj, y)\n",
        "        scores[j] = m.score(Xj, y)\n",
        "    return scores\n",
        "\n",
        "# Main program starts here ..................\n",
        "\n",
        "df = pd.read_csv('./combine_V1.csv')\n",
        "new_df = convert_dataframe(df)\n",
        "\n",
        "# Convert to y matrix for survival problem  ...\n",
        "new_y = np.zeros(len(new_df),dtype=[('Status', '?'), ('Survival_month', '<f8')])\n",
        "for ix, val in enumerate(new_df['survival (months)']):\n",
        "  new_y[ix]=(new_df.loc[ix,'status'],val)\n",
        "\n",
        "# Remove status & survival info from X matrix (required for survival analysis)\n",
        "columns = ['status','survival (months)']\n",
        "new_df.drop(columns,axis=1,inplace=True)\n",
        "\n",
        "#Pick patients with or without mutation\n",
        "if 0:\n",
        "    new_df2 = new_df.loc[new_df['EGFR1'] != 1]\n",
        "    new_df = new_df2\n",
        "\n",
        "raw_df = new_df\n",
        "\n",
        "#print(raw_df.shape)\n",
        "# shape of df_X = 575 x 42\n",
        "df_X = raw_df.to_numpy()\n",
        "\n",
        "# Sample labels are in df_y. Shape of df_y is 507\n",
        "df_y = new_y\n",
        "#print(df_y.shape)\n",
        "X_shape = df_X.shape\n",
        "\n",
        "# Check which features are more useful\n",
        "\n",
        "scores = fit_and_score_features(raw_df.values, new_y)\n",
        "print('\\n\\nVariable Predictive Power (0.5 means no predictive power):')\n",
        "print(pd.Series(scores, index=raw_df.columns).sort_values(ascending=False))\n",
        "\n",
        "\n",
        "base_acc = np.zeros(ITERATION)\n",
        "cox_acc = np.zeros(ITERATION)\n",
        "svm_acc = np.zeros(ITERATION)\n",
        "rsf_acc = np.zeros(ITERATION)\n",
        "gbt_acc = np.zeros(ITERATION)\n",
        "\n",
        "for lp in range(ITERATION):\n",
        "    #Split train and test dataset\n",
        "    X_train, X_test, y_train, y_test = train_test_split(df_X, df_y, test_size=0.3)\n",
        "    if 0: # 1 is used only to check the regression performance in predicting training set\n",
        "        X_test = X_train\n",
        "        y_test = y_train\n",
        "\n",
        "    print('----------------------\\n')\n",
        "\n",
        "    if 1: # Baseline approach\n",
        "        from sksurv.metrics import concordance_index_censored\n",
        "        max = len(y_test)\n",
        "        pred = np.zeros(max)\n",
        "        EG_ix = raw_df.columns.get_loc('EGFR')\n",
        "        for ix in range(len(y_test)):\n",
        "            if X_test[ix,EG_ix] == 2:\n",
        "              pred[ix] = 0.4 # lower risk\n",
        "            else:\n",
        "              pred[ix] = 0.6 #　higher risk\n",
        "        base_acc[lp] = concordance_index_censored(y_test['Status'], y_test['Survival_month'],pred)[0]\n",
        "        # print('Baseline score =', score[0])\n",
        "        # print(base_acc[lp])\n",
        "\n",
        "    if 1: # Cox proportional survival model\n",
        "        from sksurv.linear_model import CoxnetSurvivalAnalysis\n",
        "        cox =  CoxnetSurvivalAnalysis()\n",
        "        #from sksurv.linear_model import CoxPHSurvivalAnalysis\n",
        "        #clf_k = CoxPHSurvivalAnalysis(tol=1e-06)\n",
        "\n",
        "        cox.fit(X_train, y_train)\n",
        "        cox_acc[lp] = cox.score(X_test, y_test)\n",
        "        #print('Cox score =', acc)\n",
        "\n",
        "    if 1: #Survival SVM model\n",
        "        #from sksurv.svm import MinlipSurvivalAnalysis\n",
        "        #svm= MinlipSurvivalAnalysis(alpha=1, kernel='linear',max_iter=2000)\n",
        "        from sksurv.svm import FastKernelSurvivalSVM\n",
        "        svm= FastKernelSurvivalSVM(alpha=1, kernel='linear',max_iter=2000)\n",
        "        svm.fit(X_train, y_train)\n",
        "        #predict_s = svm.predict(X_test)\n",
        "        svm_acc[lp] = svm.score(X_test, y_test)\n",
        "        #print('SVM score =', acc)\n",
        "\n",
        "    if 1: #Use 1 to enable random survival forest here\n",
        "        from sksurv.ensemble import ExtraSurvivalTrees\n",
        "        rsf = ExtraSurvivalTrees(n_estimators=100)\n",
        "        rsf.fit(X_train, y_train)\n",
        "        rsf_acc[lp] = rsf.score(X_test, y_test)\n",
        "        #print('Random forest score =',score)\n",
        "        #error_r = np.mean(abs(predict_r - y_test))/error_base\n",
        "        #print('Random forest avg error (month) =', error_r)\n",
        "\n",
        "    if 1: #Use 1 to enable Gradient-boosted Cox proportional hazard loss with regression trees as base learner\n",
        "        from sksurv.ensemble import GradientBoostingSurvivalAnalysis\n",
        "        regx =GradientBoostingSurvivalAnalysis(n_estimators=100)\n",
        "        regx.fit(X_train, y_train)\n",
        "        #predict_g=regx.predict(X_test)\n",
        "        gbt_acc[lp] = regx.score(X_test, y_test)\n",
        "        #print('GB tree score =',score)\n",
        "    print('Loop = ', lp)\n",
        "\n",
        "print('----------------------\\n')\n",
        "print('Baseline avg score =',base_acc.mean(), 'std = ',base_acc.std())\n",
        "print('Cox avg score =',cox_acc.mean(), 'std = ',cox_acc.std() )\n",
        "print('SVM avg score =',svm_acc.mean(), 'std = ',svm_acc.std())\n",
        "print('Random survival forest avg score =',rsf_acc.mean(), 'std = ',rsf_acc.std())\n",
        "print('GB tree avg score =',gbt_acc.mean(), 'std = ',gbt_acc.std())\n",
        "\n",
        "\n"
      ]
    },
    {
      "cell_type": "code",
      "source": [],
      "metadata": {
        "id": "XyG36AMMI0Hj"
      },
      "execution_count": null,
      "outputs": []
    },
    {
      "cell_type": "markdown",
      "source": [
        "* C-index of RandomSurvivalForest at various time points"
      ],
      "metadata": {
        "id": "kabWaa6YJuMC"
      }
    },
    {
      "cell_type": "code",
      "source": [
        "from sksurv.ensemble import RandomSurvivalForest\n",
        "from sksurv.metrics import (concordance_index_censored,cumulative_dynamic_auc)\n",
        "import matplotlib.pyplot as plt\n",
        "\n",
        "times = np.arange(1.0, 60, 3.0)\n",
        "rsf_chf_funcs = rsf.predict_cumulative_hazard_function(\n",
        "    X_test, return_array=False)\n",
        "rsf_risk_scores = np.row_stack([chf(times) for chf in rsf_chf_funcs])\n",
        "rsf_auc, rsf_mean_auc = cumulative_dynamic_auc(y_train, y_test, rsf_risk_scores, times)\n",
        "\n",
        "\n",
        "\n",
        "#Plotting cumulative dynamic auc\n",
        "fig, ax = plt.subplots()\n",
        "plt.plot(times, rsf_auc, \"o-\", label=\"RSF (mean AUC = {:.3f})\".format(rsf_mean_auc))\n",
        "plt.xlabel(\"overall survival (months)\")\n",
        "plt.ylabel(\"time-dependent AUC\")\n",
        "plt.legend(loc=\"lower center\")\n",
        "plt.grid(False)\n",
        "ax.spines['right'].set_visible(False)\n",
        "ax.spines['top'].set_visible(False)\n"
      ],
      "metadata": {
        "colab": {
          "base_uri": "https://localhost:8080/",
          "height": 282
        },
        "id": "SiPNXu4IJ3nC",
        "outputId": "80c2cb24-82a8-41a0-f268-28dc2fa97bbf"
      },
      "execution_count": null,
      "outputs": [
        {
          "output_type": "display_data",
          "data": {
            "text/plain": [
              "<Figure size 432x288 with 1 Axes>"
            ],
            "image/png": "[encoded data removed]"
          },
          "metadata": {
            "needs_background": "light"
          }
        }
      ]
    },
    {
      "cell_type": "markdown",
      "source": [
        "# RSV predict survival function"
      ],
      "metadata": {
        "id": "tBtT4bETpcQN"
      }
    },
    {
      "cell_type": "code",
      "source": [
        "patient = X_test[0:5,:] # Pick first 5 to plot\n",
        "surv_funcs = rsf.predict_survival_function(patient)\n",
        "\n",
        "for i, fn in enumerate(surv_funcs):\n",
        "   plt.step(fn.x, fn(fn.x), where=\"post\", label=str(i))\n",
        "plt.ylim(0, 1)\n",
        "plt.ylabel(\"Survival probability\")\n",
        "plt.xlabel(\"Time in months\")\n",
        "plt.legend()\n",
        "plt.grid(True)\n",
        "plt.show()"
      ],
      "metadata": {
        "colab": {
          "base_uri": "https://localhost:8080/",
          "height": 283
        },
        "id": "hQPNM8nWp0y-",
        "outputId": "ea89850f-ef6d-4a2f-f16b-2fd7b65d09a7"
      },
      "execution_count": null,
      "outputs": [
        {
          "output_type": "display_data",
          "data": {
            "text/plain": [
              "<Figure size 432x288 with 1 Axes>"
            ],
            "image/png": "[encoded data removed]"
          },
          "metadata": {
            "needs_background": "light"
          }
        }
      ]
    },
    {
      "cell_type": "markdown",
      "source": [
        "# C-index of GradientBoostingSurvivalAnalysis at various time points"
      ],
      "metadata": {
        "id": "9-t9ghLvp8Er"
      }
    },
    {
      "cell_type": "code",
      "source": [
        "import matplotlib.pyplot as plt\n",
        "from sksurv.ensemble import GradientBoostingSurvivalAnalysis\n",
        "\n",
        "estimator = GradientBoostingSurvivalAnalysis(loss=\"coxph\").fit(X_train, y_train)\n",
        "gbs_chf_funcs = estimator.predict_cumulative_hazard_function(X_test)\n",
        "\n",
        "gbs_risk_scores = np.row_stack([chf(times) for chf in gbs_chf_funcs])\n",
        "gbs_auc, gbs_mean_auc = cumulative_dynamic_auc(y_train, y_test, gbs_risk_scores, times)\n",
        "\n",
        "\n",
        "\n",
        "#Plotting cumulative dynamic auc\n",
        "fig, ax = plt.subplots()\n",
        "plt.plot(times, gbs_auc, \"o-\", label=\"GBS (mean AUC = {:.3f})\".format(gbs_mean_auc))\n",
        "plt.xlabel(\"overall survival (months)\")\n",
        "plt.ylabel(\"time-dependent AUC\")\n",
        "plt.legend(loc=\"lower center\")\n",
        "plt.grid(False)\n",
        "ax.spines['right'].set_visible(False)\n",
        "ax.spines['top'].set_visible(False)\n",
        "\n",
        "\n",
        "\n",
        "# for fn in chf_funcs:\n",
        "#     plt.step(fn.x, fn(fn.x), where=\"post\")\n",
        "\n",
        "# plt.ylim(0, 1)\n",
        "# plt.show()\n"
      ],
      "metadata": {
        "colab": {
          "base_uri": "https://localhost:8080/",
          "height": 279
        },
        "id": "2Pf1K8v0qF4U",
        "outputId": "e884b141-4780-420e-947f-63808d7b89c8"
      },
      "execution_count": null,
      "outputs": [
        {
          "output_type": "display_data",
          "data": {
            "text/plain": [
              "<Figure size 432x288 with 1 Axes>"
            ],
            "image/png": "[encoded data removed]"
          },
          "metadata": {
            "needs_background": "light"
          }
        }
      ]
    },
    {
      "cell_type": "markdown",
      "source": [
        "# C-index of CoxPH survival analysis at various time points"
      ],
      "metadata": {
        "id": "PFjc5r9FyJHh"
      }
    },
    {
      "cell_type": "code",
      "source": [
        "import matplotlib.pyplot as plt\n",
        "from sksurv.datasets import load_breast_cancer\n",
        "from sksurv.preprocessing import OneHotEncoder\n",
        "from sksurv.linear_model import CoxnetSurvivalAnalysis\n",
        "\n",
        "estimator = CoxnetSurvivalAnalysis(l1_ratio=0.99, fit_baseline_model=True)\n",
        "estimator.fit(X_train, y_train)\n",
        "cox_chf_funcs = estimator.predict_cumulative_hazard_function(X_test)\n",
        "\n",
        "\n",
        "\n",
        "cox_risk_scores = np.row_stack([chf(times) for chf in cox_chf_funcs])\n",
        "cox_auc, cox_mean_auc = cumulative_dynamic_auc(y_train, y_test, cox_risk_scores, times)\n",
        "\n",
        "\n",
        "#Plotting cumulative dynamic auc\n",
        "fig, ax = plt.subplots()\n",
        "plt.plot(times, cox_auc, \"o-\", label=\"Cox (mean AUC = {:.3f})\".format(cox_mean_auc))\n",
        "plt.xlabel(\"overall survival (months)\")\n",
        "plt.ylabel(\"time-dependent AUC\")\n",
        "plt.legend(loc=\"lower center\")\n",
        "plt.grid(False)\n",
        "ax.spines['right'].set_visible(False)\n",
        "ax.spines['top'].set_visible(False)\n",
        "\n",
        "\n"
      ],
      "metadata": {
        "colab": {
          "base_uri": "https://localhost:8080/",
          "height": 279
        },
        "id": "-Qtr5JCt2uNn",
        "outputId": "652c20a5-41e5-4fcb-950c-f018945ba462"
      },
      "execution_count": null,
      "outputs": [
        {
          "output_type": "display_data",
          "data": {
            "text/plain": [
              "<Figure size 432x288 with 1 Axes>"
            ],
            "image/png": "[encoded data removed]"
          },
          "metadata": {
            "needs_background": "light"
          }
        }
      ]
    },
    {
      "cell_type": "markdown",
      "source": [
        "# C-index of SVM survival analysis at various time points"
      ],
      "metadata": {
        "id": "O-npG2h592ym"
      }
    },
    {
      "cell_type": "code",
      "source": [
        "%matplotlib inline\n",
        "import numpy as np\n",
        "import matplotlib.pyplot as plt\n",
        "import pandas\n",
        "import seaborn as sns\n",
        "from sklearn.model_selection import ShuffleSplit, GridSearchCV\n",
        "from sklearn.svm import NuSVR\n",
        "from sklearn.pipeline import make_pipeline\n",
        "from sklearn.preprocessing import StandardScaler\n",
        "!pip install scikit-survival\n",
        "from sksurv.column import encode_categorical\n",
        "from sksurv.metrics import concordance_index_censored\n",
        "from sksurv.svm import FastSurvivalSVM\n",
        "\n",
        "\n",
        "\n",
        "# # Convert to y matrix for survival problem  ...\n",
        "# new_y = np.zeros(len(new_df),dtype=[('Status', '?'), ('Survival_month', '<f8')])\n",
        "# for ix, val in enumerate(new_df['survival (months)']):\n",
        "#   new_y[ix]=(new_df.loc[ix,'status'],val)\n",
        "\n",
        "# # Remove status & survival info from X matrix (required for survival analysis)\n",
        "# columns = ['status','survival (months)']\n",
        "# new_df.drop(columns,axis=1,inplace=True)\n",
        "\n",
        "\n",
        "\n",
        "estimator = FastSurvivalSVM(max_iter=1000, tol=1e-5, random_state=0)\n",
        "def score_survival_model(model, X_test, y_test):\n",
        "    prediction = model.predict(X_test)\n",
        "    result = concordance_index_censored(y['status'], y['survival (months)'], prediction)\n",
        "    return result[0]\n",
        "\n",
        "param_grid = {'alpha': 2. ** np.arange(-12, 13, 2)}\n",
        "cv = ShuffleSplit(n_splits=100, test_size=0.5, random_state=0)\n",
        "gcv = GridSearchCV(estimator, param_grid, scoring=score_survival_model,\n",
        "                   n_jobs=4, refit=False,\n",
        "                   cv=cv)\n",
        "\n",
        "import warnings\n",
        "warnings.filterwarnings(\"ignore\", category=FutureWarning)\n",
        "gcv = gcv.fit(X_train, y_train)\n",
        "\n",
        "round(gcv.best_score_, 3), gcv.best_params_\n",
        "\n",
        "def plot_performance(gcv):\n",
        "    n_splits = gcv.cv.n_splits\n",
        "    cv_scores = {\"alpha\": [], \"test_score\": [], \"split\": []}\n",
        "    order = []\n",
        "    for i, params in enumerate(gcv.cv_results_[\"params\"]):\n",
        "        name = \"%.5f\" % params[\"alpha\"]\n",
        "        order.append(name)\n",
        "        for j in range(n_splits):\n",
        "            vs = gcv.cv_results_[\"split%d_test_score\" % j][i]\n",
        "            cv_scores[\"alpha\"].append(name)\n",
        "            cv_scores[\"test_score\"].append(vs)\n",
        "            cv_scores[\"split\"].append(j)\n",
        "    df = pandas.DataFrame.from_dict(cv_scores)\n",
        "    _, ax = plt.subplots(figsize=(11, 6))\n",
        "    sns.boxplot(x=\"alpha\", y=\"test_score\", data=df, order=order, ax=ax)\n",
        "    _, xtext = plt.xticks()\n",
        "    for t in xtext:\n",
        "        t.set_rotation(\"vertical\")\n",
        "\n",
        "plot_performance(gcv)\n",
        "\n",
        "\n",
        "\n",
        "\n",
        "\n",
        "\n",
        "\n",
        "\n",
        "\n"
      ],
      "metadata": {
        "colab": {
          "base_uri": "https://localhost:8080/",
          "height": 806
        },
        "id": "eIWxvHft9-Pk",
        "outputId": "f184a451-636d-4770-a744-5ab3407ae27e"
      },
      "execution_count": null,
      "outputs": [
        {
          "output_type": "stream",
          "name": "stdout",
          "text": [
            "Looking in indexes: https://pypi.org/simple, https://us-python.pkg.dev/colab-wheels/public/simple/\n",
            "Requirement already satisfied: scikit-survival in /usr/local/lib/python3.7/dist-packages (0.17.2)\n",
            "Requirement already satisfied: pandas>=0.25 in /usr/local/lib/python3.7/dist-packages (from scikit-survival) (1.3.5)\n",
            "Requirement already satisfied: osqp!=0.6.0,!=0.6.1 in /usr/local/lib/python3.7/dist-packages (from scikit-survival) (0.6.2.post0)\n",
            "Requirement already satisfied: joblib in /usr/local/lib/python3.7/dist-packages (from scikit-survival) (1.1.0)\n",
            "Requirement already satisfied: scipy!=1.3.0,>=1.0 in /usr/local/lib/python3.7/dist-packages (from scikit-survival) (1.4.1)\n",
            "Requirement already satisfied: ecos in /usr/local/lib/python3.7/dist-packages (from scikit-survival) (2.0.10)\n",
            "Requirement already satisfied: numexpr in /usr/local/lib/python3.7/dist-packages (from scikit-survival) (2.8.1)\n",
            "Requirement already satisfied: scikit-learn<1.1,>=1.0.0 in /usr/local/lib/python3.7/dist-packages (from scikit-survival) (1.0.2)\n",
            "Requirement already satisfied: numpy in /usr/local/lib/python3.7/dist-packages (from scikit-survival) (1.21.6)\n",
            "Requirement already satisfied: qdldl in /usr/local/lib/python3.7/dist-packages (from osqp!=0.6.0,!=0.6.1->scikit-survival) (0.1.5.post2)\n",
            "Requirement already satisfied: python-dateutil>=2.7.3 in /usr/local/lib/python3.7/dist-packages (from pandas>=0.25->scikit-survival) (2.8.2)\n",
            "Requirement already satisfied: pytz>=2017.3 in /usr/local/lib/python3.7/dist-packages (from pandas>=0.25->scikit-survival) (2022.1)\n",
            "Requirement already satisfied: six>=1.5 in /usr/local/lib/python3.7/dist-packages (from python-dateutil>=2.7.3->pandas>=0.25->scikit-survival) (1.15.0)\n",
            "Requirement already satisfied: threadpoolctl>=2.0.0 in /usr/local/lib/python3.7/dist-packages (from scikit-learn<1.1,>=1.0.0->scikit-survival) (3.1.0)\n",
            "Requirement already satisfied: packaging in /usr/local/lib/python3.7/dist-packages (from numexpr->scikit-survival) (21.3)\n",
            "Requirement already satisfied: pyparsing!=3.0.5,>=2.0.2 in /usr/local/lib/python3.7/dist-packages (from packaging->numexpr->scikit-survival) (3.0.9)\n"
          ]
        },
        {
          "output_type": "stream",
          "name": "stderr",
          "text": [
            "/usr/local/lib/python3.7/dist-packages/sklearn/model_selection/_search.py:972: UserWarning: One or more of the test scores are non-finite: [nan nan nan nan nan nan nan nan nan nan nan nan nan]\n",
            "  category=UserWarning,\n"
          ]
        },
        {
          "output_type": "display_data",
          "data": {
            "text/plain": [
              "<Figure size 792x432 with 1 Axes>"
            ],
            "image/png": "[encoded data removed]"
          },
          "metadata": {
            "needs_background": "light"
          }
        }
      ]
    },
    {
      "cell_type": "code",
      "source": [
        "\n",
        "estimator.set_params(**gcv.best_params_)\n",
        "estimator.fit(X_train, y_train)\n",
        "\n",
        "pred = estimator.predict(X_test)\n",
        "print(np.round(pred, 3))\n",
        "print(y_test[:2])\n",
        "\n",
        "\n",
        "\n",
        "\n",
        "ref_estimator = FastSurvivalSVM(rank_ratio=0.0, max_iter=1000, tol=1e-5, random_state=0)\n",
        "ref_estimator.fit(X_train, y_train)\n",
        "\n",
        "cindex = concordance_index_censored(\n",
        "    y_train['status'],\n",
        "    y_train['survival (months)'],\n",
        "    -ref_estimator.predict(X_train),  # flip sign to obtain risk scores\n",
        ")\n",
        "print(round(cindex[0], 3))\n",
        "\n",
        "\n",
        "# pred = ref_estimator.predict(x.iloc[:2])\n",
        "# print(np.round(pred, 3))\n",
        "\n"
      ],
      "metadata": {
        "colab": {
          "base_uri": "https://localhost:8080/",
          "height": 588
        },
        "id": "j-5WfW0oU1m6",
        "outputId": "040a77a8-15a6-4c47-e42a-90afd1550e99"
      },
      "execution_count": null,
      "outputs": [
        {
          "output_type": "stream",
          "name": "stdout",
          "text": [
            "[-0.242  0.319  0.292  0.304  0.349  0.189  0.255  0.49   0.437  0.997\n",
            "  0.927  0.506  0.173  0.055  0.537  0.618  0.567  0.474  0.252  0.627\n",
            "  0.335 -0.159  0.711  0.743  0.587  0.157  0.799  0.505  0.837 -0.392\n",
            "  1.077  0.892  0.93   0.711  0.932  0.746  0.823  0.111  0.886  0.343\n",
            "  0.723  1.222  1.095  0.852 -0.705 -0.268  0.966  0.193 -0.076  0.394\n",
            "  0.752  0.999  0.088 -0.079  1.014 -0.127  0.595  1.06   0.626  1.379\n",
            "  0.199  0.644  0.419  0.599  0.862  1.017  0.831  0.554  1.216  0.438\n",
            "  0.77   0.353  0.455  0.862  0.492  1.015  0.33   0.454  0.269  0.76\n",
            "  1.059  0.512  0.36   0.547  0.665  0.286  0.973  0.09   0.779  0.21\n",
            "  1.224  0.589  0.437 -0.101  0.631  0.347  0.955  0.697  0.628  0.613\n",
            "  0.595  0.531  0.443  0.822 -0.033  0.365  0.391  0.815  0.524  0.581\n",
            "  0.19   0.231  0.817  0.095  0.62   0.801  1.224  0.079  0.617  0.83\n",
            " -0.008  1.055  0.652  0.671  0.18  -0.331 -0.554  0.718  0.873 -0.344\n",
            "  0.96   0.471  0.342  0.1    0.57   0.547  0.406  0.736  0.388  0.713\n",
            "  0.733  0.596  0.382  0.41   0.39   0.68   0.249  1.045  0.689  0.549\n",
            "  0.693 -0.03  -0.273  0.916  0.269  0.097  1.059 -0.188  0.363  0.248\n",
            "  0.87   0.237  0.541  1.077  0.696  0.888  0.578  0.846  0.835  0.342\n",
            "  1.069  0.419  0.52 ]\n",
            "[(False, 76.14285714) (False,  1.56666667)]\n"
          ]
        },
        {
          "output_type": "error",
          "ename": "ValueError",
          "evalue": "ignored",
          "traceback": [
            "\u001b[0;31m---------------------------------------------------------------------------\u001b[0m",
            "\u001b[0;31mValueError\u001b[0m                                Traceback (most recent call last)",
            "\u001b[0;32m<ipython-input-9-2f563d5f96fe>\u001b[0m in \u001b[0;36m<module>\u001b[0;34m()\u001b[0m\n\u001b[1;32m     14\u001b[0m \u001b[0;34m\u001b[0m\u001b[0m\n\u001b[1;32m     15\u001b[0m cindex = concordance_index_censored(\n\u001b[0;32m---> 16\u001b[0;31m     \u001b[0my_train\u001b[0m\u001b[0;34m[\u001b[0m\u001b[0;34m'status'\u001b[0m\u001b[0;34m]\u001b[0m\u001b[0;34m,\u001b[0m\u001b[0;34m\u001b[0m\u001b[0;34m\u001b[0m\u001b[0m\n\u001b[0m\u001b[1;32m     17\u001b[0m     \u001b[0my_train\u001b[0m\u001b[0;34m[\u001b[0m\u001b[0;34m'survival (months)'\u001b[0m\u001b[0;34m]\u001b[0m\u001b[0;34m,\u001b[0m\u001b[0;34m\u001b[0m\u001b[0;34m\u001b[0m\u001b[0m\n\u001b[1;32m     18\u001b[0m     \u001b[0;34m-\u001b[0m\u001b[0mref_estimator\u001b[0m\u001b[0;34m.\u001b[0m\u001b[0mpredict\u001b[0m\u001b[0;34m(\u001b[0m\u001b[0mX_train\u001b[0m\u001b[0;34m)\u001b[0m\u001b[0;34m,\u001b[0m  \u001b[0;31m# flip sign to obtain risk scores\u001b[0m\u001b[0;34m\u001b[0m\u001b[0;34m\u001b[0m\u001b[0m\n",
            "\u001b[0;31mValueError\u001b[0m: no field of name status"
          ]
        }
      ]
    },
    {
      "cell_type": "code",
      "source": [
        "from sklearn.preprocessing import OneHotEncoder\n",
        "from sklearn.preprocessing import StandardScaler\n",
        "from sklearn.compose import make_column_transformer\n",
        "from sklearn.preprocessing import LabelEncoder\n",
        "from sklearn.pipeline import make_pipeline\n",
        "from pandas import factorize\n",
        "from sksurv.linear_model import CoxnetSurvivalAnalysis\n",
        "from sksurv.util import Surv\n",
        "import warnings\n",
        "from sklearn.exceptions import FitFailedWarning\n",
        "from sklearn.model_selection import GridSearchCV, KFold\n",
        "from sklearn import set_config\n",
        "\n",
        "pipe_rsf = make_pipeline(StandardScaler(), rsf)\n",
        "pipe_rsf.fit(X_train,y_train)\n",
        "#评价模型\n",
        "pipe_rsf.score(X_test, y_test)\n",
        "\n",
        "chf_funcs = pipe_rsf.predict_cumulative_hazard_function(X_test)\n",
        "#这里的predict是对每一个病例返回一个函数（以时间为参数）\n",
        "\n",
        "\n",
        "year5_proba=[]\n",
        "for i,fn in enumerate(chf_funcs):\n",
        "   proba_5=fn #5年60个月\n",
        "   year5_proba.append(proba_5)\n",
        "\n",
        "# print(year5_proba)\n",
        "result=X_test.copy()\n",
        "result['5year_proba']=year5_proba\n",
        "top10_17=result.sort_values(by='5year_proba',ascending=False)[:10]\n",
        "top10_17['5year_proba']\n"
      ],
      "metadata": {
        "id": "tIro83X_TJ6M"
      },
      "execution_count": null,
      "outputs": []
    },
    {
      "cell_type": "markdown",
      "source": [
        "C-index of SVM at various time points"
      ],
      "metadata": {
        "id": "2163zX_YKxtY"
      }
    },
    {
      "cell_type": "code",
      "source": [
        "!pip sksurv.svm.FastKernelSurvivalSVM\n",
        "times = np.arange(1.0, 60, 3.0)\n",
        "svm_chf_funcs = svm.predict_cumulative_hazard_function(\n",
        "    X_test, return_array=False)\n",
        "svm_risk_scores = np.row_stack([chf(times) for chf in svm_chf_funcs])\n",
        "svm_auc, svm_mean_auc = cumulative_dynamic_auc(y_train, y_test, rsf_risk_scores, times)\n",
        "\n",
        "\n",
        "\n",
        "#Plotting cumulative dynamic auc\n",
        "fig, ax = plt.subplots()\n",
        "plt.plot(times, svm_auc, \"o-\", label=\"RSF (mean AUC = {:.3f})\".format(svm_mean_auc))\n",
        "plt.xlabel(\"overall survival (months)\")\n",
        "plt.ylabel(\"time-dependent AUC\")\n",
        "plt.legend(loc=\"lower center\")\n",
        "plt.grid(False)\n",
        "ax.spines['right'].set_visible(False)\n",
        "ax.spines['top'].set_visible(False)\n",
        "\n",
        "\n",
        "\n",
        "\n",
        "\n",
        "\n"
      ],
      "metadata": {
        "id": "RzPeRxhAK9R3"
      },
      "execution_count": null,
      "outputs": []
    },
    {
      "cell_type": "code",
      "source": [
        "patient = X_test[0:5,:] # Pick first 5 to plot\n",
        "surv_funcs = rsf.predict_survival_function(patient)\n",
        "\n",
        "for i, fn in enumerate(surv_funcs):\n",
        "   plt.step(fn.x, fn(fn.x), where=\"post\", label=str(i))\n",
        "plt.ylim(0, 1)\n",
        "plt.ylabel(\"Survival probability\")\n",
        "plt.xlabel(\"Time in months\")\n",
        "plt.legend()\n",
        "plt.grid(True)\n",
        "plt.show()"
      ],
      "metadata": {
        "id": "PgaKZ-YIKVH4"
      },
      "execution_count": null,
      "outputs": []
    },
    {
      "cell_type": "markdown",
      "source": [
        "C-index of SVM at various time points"
      ],
      "metadata": {
        "id": "mUEwa6iywzqh"
      }
    },
    {
      "cell_type": "code",
      "source": [
        "import numpy as np\n",
        "import matplotlib.pyplot as plt\n",
        "%matplotlib inline\n",
        "import pandas as pd\n",
        "\n",
        "from sklearn.impute import SimpleImputer\n",
        "from sklearn.model_selection import train_test_split\n",
        "from sklearn.pipeline import make_pipeline\n",
        "\n",
        "from sksurv.datasets import load_flchain, load_gbsg2\n",
        "from sksurv.functions import StepFunction\n",
        "from sksurv.linear_model import CoxPHSurvivalAnalysis, CoxnetSurvivalAnalysis\n",
        "from sksurv.metrics import (\n",
        "    concordance_index_censored,\n",
        "    concordance_index_ipcw,\n",
        "    cumulative_dynamic_auc,\n",
        "    integrated_brier_score,\n",
        ")\n",
        "from sksurv.nonparametric import kaplan_meier_estimator\n",
        "from sksurv.preprocessing import OneHotEncoder, encode_categorical\n",
        "from sksurv.util import Surv\n",
        "\n",
        "plt.rcParams['figure.figsize'] = [7.2, 4.8]"
      ],
      "metadata": {
        "id": "QXgatkziUNxE"
      },
      "execution_count": null,
      "outputs": []
    },
    {
      "cell_type": "code",
      "source": [
        "import scipy.optimize as opt\n",
        "\n",
        "\n",
        "def generate_marker(n_samples,\n",
        "                    hazard_ratio,\n",
        "                    baseline_hazard,\n",
        "                    rnd):\n",
        "    # create synthetic risk score\n",
        "    X = rnd.randn(n_samples, 1)\n",
        "\n",
        "    # create linear model\n",
        "    hazard_ratio = np.array([hazard_ratio])\n",
        "    logits = np.dot(X, np.log(hazard_ratio))\n",
        "\n",
        "    # draw actual survival times from exponential distribution,\n",
        "    # refer to Bender et al. (2005), https://doi.org/10.1002/sim.2059\n",
        "    u = rnd.uniform(size=n_samples)\n",
        "    time_event = -np.log(u) / (baseline_hazard * np.exp(logits))\n",
        "\n",
        "    # compute the actual concordance in the absence of censoring\n",
        "    X = np.squeeze(X)\n",
        "    actual = concordance_index_censored(np.ones(n_samples, dtype=bool),  time_event, X)\n",
        "    return X, time_event, actual[0]\n",
        "def generate_survival_data(n_samples,hazard_ratio,baseline_hazard,percentage_cens,\n",
        "                           rnd):\n",
        "       X, time_event, actual_c = generate_marker(n_samples, hazard_ratio,baseline_hazard, rnd)\n",
        "\n",
        "def get_observed_time(x):\n",
        "        rnd_cens = np.random.RandomState(0)\n",
        "        # draw censoring times\n",
        "        time_censor = rnd_cens.uniform(high=x, size=n_samples)\n",
        "        event = time_event < time_censor\n",
        "        time = np.where(event, time_event, time_censor)\n",
        "        return event, time\n",
        "\n",
        "def censoring_amount(x):\n",
        "        event, _ = get_observed_time(x)\n",
        "        cens = 1.0 - event.sum() / event.shape[0]\n",
        "        return (cens - percentage_cens)**2\n",
        "\n",
        "    # search for upper limit to obtain the desired censoring amount\n",
        "        res = opt.minimize_scalar(censoring_amount,\n",
        "                              method=\"bounded\",\n",
        "                              bounds=(0, time_event.max()))\n",
        " # compute observed time\n",
        "        event, time = get_observed_time(res.x)\n",
        "\n",
        "    # upper time limit such that the probability\n",
        "    # of being censored is non-zero for `t > tau`\n",
        "        tau = time[event].max()\n",
        "        y = Surv.from_arrays(event=event, time=time)\n",
        "        mask = time < tau\n",
        "        X_test = X[mask]\n",
        "        y_test = y[mask]\n",
        "\n",
        "        return X_test, y_test, y, actual_c\n",
        "\n",
        "\n",
        "def simulation(n_samples, hazard_ratio, n_repeats=100):\n",
        "    measures = (\"censoring\", \"Harrel's C\", \"Uno's C\",)\n",
        "    data_mean = {}\n",
        "    data_std = {}\n",
        "    for measure in measures:\n",
        "        data_mean[measure] = []\n",
        "        data_std[measure] = []\n",
        "\n",
        "    rnd = np.random.RandomState(seed=575)\n",
        "    # iterate over different amount of censoring\n",
        "    for cens in (.1, .25, .4, .5, .6, .7):\n",
        "        data = {\"censoring\": [], \"Harrel's C\": [], \"Uno's C\": [],}\n",
        "\n",
        "        # repeaditly perform simulation\n",
        "        for _ in range(n_repeats):\n",
        "            # generate data\n",
        "            X_test, y_test, y_train, actual_c = generate_survival_data(n_samples, hazard_ratio,\n",
        "                baseline_hazard=0.1,\n",
        "                percentage_cens=cens,\n",
        "                rnd=rnd)\n",
        "\n",
        "            # estimate c-index\n",
        "            c_harrell = concordance_index_censored(y_test[\"event\"], y_test[\"time\"], X_test)\n",
        "            c_uno = concordance_index_ipcw(y_train, y_test, X_test)\n",
        "\n",
        "            # save results\n",
        "            data[\"censoring\"].append(100. - y_test[\"event\"].sum() * 100. / y_test.shape[0])\n",
        "            data[\"Harrel's C\"].append(actual_c - c_harrell[0])\n",
        "            data[\"Uno's C\"].append(actual_c - c_uno[0])\n",
        "\n",
        "        # aggregate results\n",
        "        for key, values in data.items():\n",
        "            data_mean[key].append(np.mean(data[key]))\n",
        "            data_std[key].append(np.std(data[key], ddof=1))\n",
        "\n",
        "    data_mean = pd.DataFrame.from_dict(data_mean)\n",
        "    data_std = pd.DataFrame.from_dict(data_std)\n",
        "    return data_mean, data_std\n",
        "\n",
        "\n",
        "def plot_results(data_mean, data_std, **kwargs):\n",
        "    index = pd.Index(data_mean[\"censoring\"].round(3), name=\"mean percentage censoring\")\n",
        "    for df in (data_mean, data_std):\n",
        "        df.drop(\"censoring\", axis=1, inplace=True)\n",
        "        df.index = index\n",
        "\n",
        "    ax = data_mean.plot.bar(yerr=data_std, **kwargs)\n",
        "    ax.set_ylabel(\"Actual C - Estimated C\")\n",
        "    ax.yaxis.grid(True)\n",
        "    ax.axhline(0.0, color=\"gray\")"
      ],
      "metadata": {
        "id": "iYN7v6ovVRXK"
      },
      "execution_count": null,
      "outputs": []
    },
    {
      "cell_type": "code",
      "source": [
        "imputer = SimpleImputer().fit(X_train.loc[:, df_X])\n",
        "X_test_imputed = imputer.transform(X_test.loc[:, df_X])\n",
        "\n",
        "\n",
        "\n",
        "def plot_cumulative_dynamic_auc(risk_score, label, color=None):\n",
        "    auc, mean_auc = cumulative_dynamic_auc(y_train, y_test, risk_score, times)\n",
        "\n",
        "    plt.plot(times, auc, marker=\"o\", color=color, label=label)\n",
        "    plt.xlabel(\"days from enrollment\")\n",
        "    plt.ylabel(\"time-dependent AUC\")\n",
        "    plt.axhline(mean_auc, color=color, linestyle=\"--\")\n",
        "    plt.legend()\n",
        "\n",
        "\n",
        "for i, col in enumerate(df_X):\n",
        "    plot_cumulative_dynamic_auc(X_test_imputed[:, i], col, color=\"C{}\".format(i))\n",
        "    ret = concordance_index_ipcw(y_train, y_test, X_test_imputed[:, i], tau=times[-1])"
      ],
      "metadata": {
        "id": "aKHk-yvWbyFi"
      },
      "execution_count": null,
      "outputs": []
    },
    {
      "cell_type": "code",
      "source": [
        "hazard_ratio = 2.0\n",
        "ylim = [-0.035, 0.035]\n",
        "mean_1, std_1 = simulation(100, hazard_ratio)\n",
        "plot_results(mean_1, std_1, ylim=ylim)"
      ],
      "metadata": {
        "id": "_YqlTPe_Wfix"
      },
      "execution_count": null,
      "outputs": []
    },
    {
      "cell_type": "code",
      "source": [
        "import matplotlib.pyplot as plt\n",
        "from sksurv.metrics import (concordance_index_censored,cumulative_dynamic_auc)\n",
        "from sksurv.linear_model import CoxPHSurvivalAnalysis\n",
        "\n",
        "estimator = CoxPHSurvivalAnalysis().fit(X_train, y_train)\n",
        "\n",
        "# chf_funcs = estimator.predict_cumulative_hazard_function\n",
        "\n",
        "cox =  CoxnetSurvivalAnalysis()\n",
        "        #from sksurv.linear_model import CoxPHSurvivalAnalysis\n",
        "        #clf_k = CoxPHSurvivalAnalysis(tol=1e-06)\n",
        "\n",
        "cox.fit(X_train, y_train)\n",
        "cox_acc[lp] = cox.score(X_test, y_test)\n",
        "\n",
        "\n",
        "\n",
        "times = np.arange(1.0, 60, 3.0)\n",
        "chf_funcs = estimator.predict_cumulative_hazard_function(X_train)\n",
        "cox_risk_scores = np.row_stack([chf(times) for chf in chf_funcs])\n",
        "cox_auc, cox_mean_auc = cumulative_dynamic_auc(y_train, y_test, cox_risk_scores, times)\n",
        "\n",
        "\n",
        "\n",
        "#Plotting cumulative dynamic auc\n",
        "fig, ax = plt.subplots()\n",
        "plt.plot(times, rsf_auc, \"o-\", label=\"RSF (mean AUC = {:.3f})\".format(rsf_mean_auc))\n",
        "plt.xlabel(\"overall survival (months)\")\n",
        "plt.ylabel(\"time-dependent AUC\")\n",
        "plt.legend(loc=\"lower center\")\n",
        "plt.grid(False)\n",
        "ax.spines['right'].set_visible(False)\n",
        "ax.spines['top'].set_visible(False)\n",
        "\n",
        "\n",
        "\n"
      ],
      "metadata": {
        "id": "RErzje81xEdp"
      },
      "execution_count": null,
      "outputs": []
    },
    {
      "cell_type": "markdown",
      "source": [
        "**Fit logistic regression **"
      ],
      "metadata": {
        "id": "ZaUQ7zKcNs0d"
      }
    },
    {
      "cell_type": "code",
      "source": [
        "# df = pd.read_csv('./combine_V1.csv')\n",
        "# # new_df = convert_dataframe(df)\n",
        "# print(df)\n",
        "# #define the predictor variables and the response variable\n",
        "# X = df[:,:28]\n",
        "# y = df[:,28]\n",
        "\n",
        "# #split the dataset into training (70%) and testing (30%) sets\n",
        "# X_train,X_test,y_train,y_test = train_test_split(X,y,test_size=0.3,random_state=0)\n",
        "\n",
        "#instantiate the model\n",
        "log_regression = LogisticRegression()\n",
        "\n",
        "#fit the model using the training data\n",
        "log_regression.fit(X_train,y_train)\n"
      ],
      "metadata": {
        "id": "rvd8jdFaODcE"
      },
      "execution_count": null,
      "outputs": []
    },
    {
      "cell_type": "code",
      "source": [
        "from google.colab import drive\n",
        "drive.mount('/content/drive')"
      ],
      "metadata": {
        "id": "7UBLOLRBhxsa"
      },
      "execution_count": null,
      "outputs": []
    },
    {
      "cell_type": "code",
      "source": [
        "new_df[\"Treat1\"]"
      ],
      "metadata": {
        "id": "s8OuNGZKCyk3"
      },
      "execution_count": null,
      "outputs": []
    },
    {
      "cell_type": "code",
      "source": [],
      "metadata": {
        "id": "BF1-g5rm5wvX"
      },
      "execution_count": null,
      "outputs": []
    },
    {
      "cell_type": "markdown",
      "source": [],
      "metadata": {
        "id": "v4BczvCt_OeP"
      }
    },
    {
      "cell_type": "code",
      "source": [
        "pip install scikit-survival\n"
      ],
      "metadata": {
        "id": "0Z4Nnp0xMogO"
      },
      "execution_count": null,
      "outputs": []
    },
    {
      "cell_type": "code",
      "execution_count": null,
      "metadata": {
        "id": "M1Q1tz9ek5Nt",
        "scrolled": false
      },
      "outputs": [],
      "source": [
        "hist, bin_edges = np.histogram(df['survival (months)'], bins=10)\n",
        "print(bin_edges, hist)\n",
        "hist.sum()"
      ]
    },
    {
      "cell_type": "code",
      "execution_count": null,
      "metadata": {
        "id": "6kEPbKSEXirZ"
      },
      "outputs": [],
      "source": [
        "regx.predict(X_test)"
      ]
    },
    {
      "cell_type": "code",
      "execution_count": null,
      "metadata": {
        "id": "j6V8mbzrOQJU"
      },
      "outputs": [],
      "source": [
        "# from google.colab import files\n",
        "# uploaded = files.upload()\n",
        "\n"
      ]
    },
    {
      "cell_type": "code",
      "execution_count": null,
      "metadata": {
        "id": "wU50pDXdOQJV"
      },
      "outputs": [],
      "source": [
        "# raw_df['']\n"
      ]
    },
    {
      "cell_type": "code",
      "execution_count": null,
      "metadata": {
        "id": "9srS8J7COQJV"
      },
      "outputs": [],
      "source": [
        "new_df.shape\n",
        "\n",
        "\n"
      ]
    },
    {
      "cell_type": "code",
      "execution_count": null,
      "metadata": {
        "id": "7Fzg71IyOQJW"
      },
      "outputs": [],
      "source": [
        "y_test"
      ]
    },
    {
      "cell_type": "code",
      "execution_count": null,
      "metadata": {
        "id": "21ZY54iAOQJW"
      },
      "outputs": [],
      "source": [
        "categorical_cols = ['Treat1','Treat2']\n",
        "yy = new_df.astype(int)\n",
        "yy = yy.astype(str)\n",
        "yy = pd.get_dummies(yy,columns=None)\n",
        "\n",
        "print (yy)"
      ]
    },
    {
      "cell_type": "code",
      "execution_count": null,
      "metadata": {
        "id": "DPTw8q_oxOr7"
      },
      "outputs": [],
      "source": [
        "tmp2 = new_df['Treat1'].astype('int')\n",
        "tmp = tmp2.copy()\n",
        "print(new_df['Treat1'])\n",
        "\n",
        "leng = len(tmp)\n",
        "ser = tmp.value_counts()\n",
        "ser=ser.sort_index()\n",
        "cat = ser.index.values\n",
        "cat_no = len(cat)\n",
        "print(cat_no)\n",
        "cnt = np.zeros(cat_no)\n",
        "print (ser)\n",
        "for ix in range(cat_no):\n",
        "  cnt[ix] = (ser.iat[ix] / leng) * 3\n",
        "print(cnt)\n",
        "for ix, val in enumerate(tmp):\n",
        "  #print(ix, val, cnt[val == cat])\n",
        "  tmp[ix] = cnt[val == cat]\n",
        "#new_df[\"Treat1\"]"
      ]
    },
    {
      "cell_type": "code",
      "source": [],
      "metadata": {
        "id": "RxlOWqJfWKxO"
      },
      "execution_count": null,
      "outputs": []
    },
    {
      "cell_type": "markdown",
      "source": [
        "新增加程式\n"
      ],
      "metadata": {
        "id": "tHg92wtZWmDC"
      }
    },
    {
      "cell_type": "code",
      "source": [
        "import pandas as pd\n",
        "import numpy as np\n",
        "from sklearn.model_selection import train_test_split\n",
        "from sklearn.linear_model import LogisticRegression\n",
        "from sklearn import metrics\n",
        "import matplotlib.pyplot as plt"
      ],
      "metadata": {
        "id": "i27l_xUcWQ48"
      },
      "execution_count": null,
      "outputs": []
    },
    {
      "cell_type": "markdown",
      "source": [
        "Fit the Logistic Regression Model"
      ],
      "metadata": {
        "id": "R9kNjXe_WsK0"
      }
    },
    {
      "cell_type": "code",
      "source": [
        "#import dataset from CSV file on Github\n",
        "# url = \"https://raw.githubusercontent.com/Statology/Python-Guides/main/default.csv\"\n",
        "# data = pd.read_csv(url)\n",
        "\n",
        "#define the predictor variables and the response variable\n",
        "# X = new_df[:,1:26]\n",
        "# y = new_df[:,0:1]\n",
        "\n",
        "#split the dataset into training (70%) and testing (30%) sets\n",
        "X_train,X_test,y_train,y_test = train_test_split(X,y,test_size=0.3,random_state=0)\n",
        "\n",
        "#instantiate the model\n",
        "log_regression = LogisticRegression()\n",
        "\n",
        "#fit the model using the training data\n",
        "log_regression.fit(X_train,y_train)"
      ],
      "metadata": {
        "id": "vVOAmJBXW7XB"
      },
      "execution_count": null,
      "outputs": []
    },
    {
      "cell_type": "markdown",
      "source": [
        "Plot the ROC Curve"
      ],
      "metadata": {
        "id": "lyitClA0XNfC"
      }
    },
    {
      "cell_type": "code",
      "source": [
        "#define metrics\n",
        "y_pred_proba = log_regression.predict_proba(X_test)[::,1]\n",
        "fpr, tpr, _ = metrics.roc_curve(y_test,  y_pred_proba)\n",
        "\n",
        "#create ROC curve\n",
        "plt.plot(fpr,tpr)\n",
        "plt.ylabel('True Positive Rate')\n",
        "plt.xlabel('False Positive Rate')\n",
        "plt.show()"
      ],
      "metadata": {
        "id": "SkVDqh_9XRmw"
      },
      "execution_count": null,
      "outputs": []
    }
  ],
  "metadata": {
    "colab": {
      "provenance": []
    },
    "kernelspec": {
      "display_name": "Python 3",
      "language": "python",
      "name": "python3"
    },
    "language_info": {
      "codemirror_mode": {
        "name": "ipython",
        "version": 3
      },
      "file_extension": ".py",
      "mimetype": "text/x-python",
      "name": "python",
      "nbconvert_exporter": "python",
      "pygments_lexer": "ipython3",
      "version": "3.8.3"
    }
  },
  "nbformat": 4,
  "nbformat_minor": 0
}